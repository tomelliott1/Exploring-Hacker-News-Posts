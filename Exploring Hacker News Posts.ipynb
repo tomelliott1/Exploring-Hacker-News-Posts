{
 "cells": [
  {
   "cell_type": "markdown",
   "metadata": {},
   "source": [
    "# Dataquest Guided Project 2: Exploring Hacker News Posts\n",
    "---\n",
    "\n",
    "Hacker News is a site started by startup incubator Y Combinator. It consists of user-generated posts that are voted and commented on, and is extremely popular in technology and startup circles.\n",
    "\n",
    "Two specific types of posts are of interest to us in this project: `Ask HN` and `Show HN`. `Ask HN` posts comprise of users asking questions to the Hacker News community, whereas `Show HN` posts are created to share a topic with the community, for example a project, product or interesting news article.\n",
    "\n",
    "The key analysis that I aim to provide in this Python will draw on recently acquired skills and provide the following information:\n",
    "1. Do `Ask HN` or `Show HN` posts receive more comments on average?\n",
    "2. Do posts created at a certain time generate more comments on average?\n",
    "\n",
    "\n",
    "## Importing data\n",
    "The data set that will be used for this analysis can be found [here][1], and features almost 300,000 Hacker News posts in the 12 months up to 26/09/2016.\n",
    "\n",
    "Fistly the data will be imported and saved as a list-of-lists variable `hn`. The header row for the data is then saved in `headers`, while `hn` is updated to remove the header row, thus containing only data.\n",
    "\n",
    "`headers` and the first 3 entried in the data set `hn` are printed below to understand the data set structure.\n",
    "\n",
    "[1]: https://www.kaggle.com/hacker-news/hacker-news-posts\n"
   ]
  },
  {
   "cell_type": "code",
   "execution_count": 7,
   "metadata": {},
   "outputs": [
    {
     "name": "stdout",
     "output_type": "stream",
     "text": [
      "['id', 'title', 'url', 'num_points', 'num_comments', 'author', 'created_at']\n",
      " \n",
      "     \n",
      "['12579008', 'You have two days to comment if you want stem cells to be classified as your own', 'http://www.regulations.gov/document?D=FDA-2015-D-3719-0018', '1', '0', 'altstar', '9/26/2016 3:26']\n",
      " \n",
      "     \n",
      "['12579005', 'SQLAR  the SQLite Archiver', 'https://www.sqlite.org/sqlar/doc/trunk/README.md', '1', '0', 'blacksqr', '9/26/2016 3:24']\n",
      " \n",
      "     \n",
      "['12578997', 'What if we just printed a flatscreen television on the side of our boxes?', 'https://medium.com/vanmoof/our-secrets-out-f21c1f03fdc8#.ietxmez43', '1', '0', 'pavel_lishin', '9/26/2016 3:19']\n"
     ]
    }
   ],
   "source": [
    "from csv import reader\n",
    "opened_file = open(r\"C:\\Users\\tomel\\Documents\\Programming\\Tutorials\\Dataquest\\Guided Project 2\\HN_posts_year_to_Sep_26_2016.csv\", encoding=\"utf8\")\n",
    "read_file = reader(opened_file)\n",
    "hn = list(read_file)\n",
    "\n",
    "headers = hn[0]\n",
    "hn = hn[1:]\n",
    "\n",
    "print(headers)\n",
    "for iter in range (0,3):\n",
    "    print (\"\"\" \n",
    "     \"\"\")\n",
    "    print (hn[iter])\n"
   ]
  },
  {
   "cell_type": "markdown",
   "metadata": {},
   "source": [
    "## Data set structure\n",
    "A overview of the structure of the `hn` dataset is given in the below table:\n",
    "\n",
    "Index Number|Header|Example Data\n",
    ":---|:---|:---\n",
    "0|'id'|'12579008'\n",
    "1|'title'|'You have two days to comment if you want stem cells to be classified as your own'\n",
    "2|'url'|'http://www.regulations.gov/document?D=FDA-2015-D-3719-0018'\n",
    "3|'num_points'|'1'\n",
    "4|'num_comments'|'0'|\n",
    "5|'author'|'altstar'\n",
    "6|'created_at'|'9/26/2016 3:26'\n"
   ]
  },
  {
   "cell_type": "markdown",
   "metadata": {},
   "source": [
    "## Create `ask_posts` and `show_posts` data sets\n",
    "\n",
    "Below the list class objects `ask_posts`, `show_posts` and `other_posts` are created and populated with the relevant entries from the `hn` data set by:\n",
    "- converting the post title (index `0`) to lower case using the `str.lower` method\n",
    "- identifying if the title starts with the relevant string (i.e. `ask hn` or `show hn`) using the `str.startswith` method"
   ]
  },
  {
   "cell_type": "code",
   "execution_count": 18,
   "metadata": {},
   "outputs": [
    {
     "name": "stdout",
     "output_type": "stream",
     "text": [
      "Number of 'Ask HN' posts :  9139\n",
      "Number of 'Show HN' posts :  10158\n",
      "Number of other posts :  273822\n"
     ]
    }
   ],
   "source": [
    "ask_posts = []\n",
    "show_posts = []\n",
    "other_posts = []\n",
    "\n",
    "for row in hn:\n",
    "    title = row[1]\n",
    "    title = title.lower()\n",
    "    if title.startswith(\"ask hn\"):\n",
    "        ask_posts.append(row)\n",
    "    elif title.startswith(\"show hn\"):\n",
    "        show_posts.append(row)\n",
    "    else:\n",
    "        other_posts.append(row)\n",
    "\n",
    "print(\"Number of 'Ask HN' posts : \", len(ask_posts))\n",
    "print(\"Number of 'Show HN' posts : \", len(show_posts))\n",
    "print(\"Number of other posts : \", len(other_posts))"
   ]
  },
  {
   "cell_type": "markdown",
   "metadata": {},
   "source": [
    "## Calculate average number of comments by post type\n",
    "\n",
    "The average number of comments for \"Ask HN\" and \"Show HN\" posts are calculated below by summing the comments (index number `4`) across each data set (`ask_posts` and `show_posts`). This total comments variable is then divided by the length of each dataset (i.e. the number of posts) to find the average number of comments."
   ]
  },
  {
   "cell_type": "code",
   "execution_count": 21,
   "metadata": {},
   "outputs": [
    {
     "name": "stdout",
     "output_type": "stream",
     "text": [
      "Average 'Ask HN' comments : 10.39\n",
      "Average 'Show HN' comments : 4.89\n"
     ]
    }
   ],
   "source": [
    "total_ask_comments = 0\n",
    "for row in ask_posts:\n",
    "    total_ask_comments += int(row[4])\n",
    "avg_ask_comments = round(total_ask_comments/len(ask_posts), 2)\n",
    "\n",
    "\n",
    "total_show_comments = 0\n",
    "for row in show_posts:\n",
    "    total_show_comments += int(row[4])\n",
    "avg_show_comments = round(total_show_comments/len(show_posts), 2)\n",
    "\n",
    "print (\"Average 'Ask HN' comments :\", avg_ask_comments)\n",
    "print (\"Average 'Show HN' comments :\", avg_show_comments)"
   ]
  },
  {
   "cell_type": "markdown",
   "metadata": {},
   "source": [
    "We can see fromt this simple analysis that \"Ask HN\" posts receive more than double the number of comments for \"Show HN\" posts. Therefore it could be argued that \"Ask HN\" posts are more likely to feature in the top Hacker News posts than \"Show HN\" posts in the 12 months considered here."
   ]
  },
  {
   "cell_type": "markdown",
   "metadata": {},
   "source": [
    "## Determine best time to create \"Ask HN\" posts\n",
    "\n",
    "In order for a Hacker News post to be featured and rank highly on the Hacker News main billboard it must generate a high number of comments. The intention of the below analysis is to identify at what time users should create \"Ask HN\" posts in order to generate a high number of comments, and thus propel the post up the Hacker News billboard.\n",
    "\n",
    "To do this, dictionaries `counts_by_hour` and `comments_by_hour` are created which record the number of posts created per hour of the day, and the number of comments on posts created in each hour of the day respectively. \n",
    "\n",
    "In order to do this, it is necessary to parse the `created at` entry as a timedate class object using the `datetime.strptime` method. Once parsed, a new variable (`create_hour`) can be created for each entry/post which uses the `datetime.strftime` method to record the hour of the day when the post was generated, as a string.\n",
    "\n",
    "The `create_by_hour` and `comments_by_hour` dictionaries are essentially frequency tables, where data is stored against each hour of the day. This data is then used to calculate the mean number of comments for posts created at each of these hours in the day. The result of this calculation is stored in `avg_by_hour`.\n",
    "\n",
    "Sorting of the data stored in `avg_by_hour` is performed, and saved in the variable `sorted_swap`, which enables clear formatting of the times of the day when post are created that generate the most number of comments on average."
   ]
  },
  {
   "cell_type": "code",
   "execution_count": 49,
   "metadata": {},
   "outputs": [
    {
     "name": "stdout",
     "output_type": "stream",
     "text": [
      "Top 5 Hours for Ask Posts Comments (Time Zone = US Eastern Time):\n",
      "15:00: 28.68 average comments per post\n",
      "13:00: 16.32 average comments per post\n",
      "12:00: 12.38 average comments per post\n",
      "02:00: 11.14 average comments per post\n",
      "10:00: 10.68 average comments per post\n"
     ]
    }
   ],
   "source": [
    "import datetime as dt\n",
    "\n",
    "result_list = []\n",
    "\n",
    "for row in ask_posts:\n",
    "    result_list.append([row[6], int(row[4])])\n",
    "\n",
    "counts_by_hour = {}\n",
    "comments_by_hour = {}\n",
    "\n",
    "for row in result_list:\n",
    "    create_dt = dt.datetime.strptime(row[0], \"%m/%d/%Y %H:%M\")\n",
    "    create_hour = dt.datetime.strftime(create_dt, \"%H\")\n",
    "    \n",
    "    if create_hour in counts_by_hour:\n",
    "        counts_by_hour[create_hour] += 1\n",
    "        comments_by_hour[create_hour] += row[1]\n",
    "    else:\n",
    "        counts_by_hour[create_hour] = 1\n",
    "        comments_by_hour[create_hour] = row[1]\n",
    "\n",
    "avg_by_hour = []\n",
    "\n",
    "for hour in counts_by_hour:\n",
    "    avg_by_hour.append([hour, comments_by_hour[hour]/counts_by_hour[hour],2])\n",
    "\n",
    "swap_avg_by_hour = []\n",
    "for entry in avg_by_hour:\n",
    "    swap_avg_by_hour.append([entry[1], entry[0]])\n",
    "    \n",
    "sorted_swap = sorted(swap_avg_by_hour, reverse = True)\n",
    "\n",
    "print (\"Top 5 Hours for Ask Posts Comments (Time Zone = US Eastern Time):\")\n",
    "\n",
    "for entry in sorted_swap[0:5]:\n",
    "    entry_datetime = dt.datetime.strptime(entry[1], \"%H\")\n",
    "    entry_datetime = dt.datetime.strftime(entry_datetime, \"%H:00\")\n",
    "    \n",
    "    top_avgs = \"{}: {:.2f} average comments per post\".format(entry_datetime, entry[0])\n",
    "    print(top_avgs)"
   ]
  },
  {
   "cell_type": "markdown",
   "metadata": {},
   "source": [
    "Considering that the input data was normalised such that the time zone for the `'created_at'` data was Eastern Time in US, it might be more useful for a user in the UK to have this data in GMT. \n",
    "\n",
    "To convert,  a `timedelta` object with an `hours` attribute of `4` (GMT is 4 hours ahead of US Eastern Time) is created and added to the time data stored in `sorted_swap`."
   ]
  },
  {
   "cell_type": "code",
   "execution_count": 54,
   "metadata": {},
   "outputs": [
    {
     "name": "stdout",
     "output_type": "stream",
     "text": [
      "Top 5 Hours for Ask Posts Comments (Time Zone = GMT):\n",
      "19:00: 28.68 average comments per post\n",
      "17:00: 16.32 average comments per post\n",
      "16:00: 12.38 average comments per post\n",
      "06:00: 11.14 average comments per post\n",
      "14:00: 10.68 average comments per post\n"
     ]
    }
   ],
   "source": [
    "print (\"Top 5 Hours for Ask Posts Comments (Time Zone = GMT):\")\n",
    "\n",
    "for entry in sorted_swap[0:5]:\n",
    "    entry_datetime = dt.datetime.strptime(entry[1], \"%H\")\n",
    "    time_delta = dt.timedelta(hours = 4)\n",
    "    entry_datetime = entry_datetime + time_delta\n",
    "    entry_datetime = dt.datetime.strftime(entry_datetime, \"%H:00\")\n",
    "    top_avgs = \"{}: {:.2f} average comments per post\".format(entry_datetime, entry[0])\n",
    "    print(top_avgs)"
   ]
  },
  {
   "cell_type": "markdown",
   "metadata": {},
   "source": [
    "## Conclusions\n",
    "\n",
    "- Of the \"Ask HN\" and \"Show HN\" post types, the \"Ask HN\" post type generated over double the number of comments on average than \"Show HN\". Therefore, users aiming for their posts to be promoted to the top ranked Hacker News posts should favour \"Ask HN\" type posts.\n",
    "\n",
    "- When considering the number of comments generated on a post, it matters when the post was created. Therefore, users hoping for thier posts to be featured should consider posting at specific times.\n",
    "- For users posting from the UK, posts created between 19:00 - 19:59 GMT are significantly more successful in terms of number of comments than any other hour interval, generating on average 28.68 comments per post. This is over 12 comments more than the next most favourable hourly interval (17:00 - 17:59, with 16.32 average comments per post)\n"
   ]
  }
 ],
 "metadata": {
  "kernelspec": {
   "display_name": "Python 3",
   "language": "python",
   "name": "python3"
  },
  "language_info": {
   "codemirror_mode": {
    "name": "ipython",
    "version": 3
   },
   "file_extension": ".py",
   "mimetype": "text/x-python",
   "name": "python",
   "nbconvert_exporter": "python",
   "pygments_lexer": "ipython3",
   "version": "3.7.6"
  }
 },
 "nbformat": 4,
 "nbformat_minor": 4
}
